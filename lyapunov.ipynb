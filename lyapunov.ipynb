{
  "nbformat": 4,
  "nbformat_minor": 0,
  "metadata": {
    "colab": {
      "provenance": []
    },
    "kernelspec": {
      "name": "python3",
      "display_name": "Python 3"
    },
    "language_info": {
      "name": "python"
    }
  },
  "cells": [
    {
      "cell_type": "code",
      "execution_count": 1,
      "metadata": {
        "id": "QHxmfTpbNUCB",
        "colab": {
          "base_uri": "https://localhost:8080/"
        },
        "outputId": "68028267-7a19-4aa0-8bda-895cfb0c22c9"
      },
      "outputs": [
        {
          "output_type": "stream",
          "name": "stdout",
          "text": [
            "Lyapunov Exponent: 0.6931471805600546\n"
          ]
        }
      ],
      "source": [
        "import numpy as np\n",
        "\n",
        "#  the function f(x)\n",
        "def f(x):\n",
        "    return 1 - 2*abs(x - 1/2)\n",
        "\n",
        "#initial condition\n",
        "x0 = 0.1\n",
        "\n",
        "# number of iterations\n",
        "n_iterations = 1000\n",
        "\n",
        "# initialize the Lyapunov sum\n",
        "lyapunov_sum = 0.0\n",
        "\n",
        "# iterate and compute the Lyapunov exponent\n",
        "for _ in range(n_iterations):\n",
        "    x0 = f(x0)  # iterate the function\n",
        "    df = -2 if x0 < 1/2 else 2  # derivative of f(x) at x0 (for defined points)\n",
        "    lyapunov_sum += np.log(abs(df))  # add the logarithm of the absolute derivative\n",
        "\n",
        "# calculate the Lyapunov exponent\n",
        "lyapunov_exponent = lyapunov_sum / n_iterations\n",
        "\n",
        "print(\"Lyapunov Exponent:\", lyapunov_exponent)\n"
      ]
    }
  ]
}